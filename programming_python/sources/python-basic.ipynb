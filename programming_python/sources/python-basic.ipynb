{
 "cells": [
  {
   "attachments": {},
   "cell_type": "markdown",
   "metadata": {},
   "source": [
    "# Python 101 Programing"
   ]
  },
  {
   "attachments": {},
   "cell_type": "markdown",
   "metadata": {},
   "source": [
    "## Variables"
   ]
  },
  {
   "cell_type": "code",
   "execution_count": 2,
   "metadata": {},
   "outputs": [
    {
     "name": "stdout",
     "output_type": "stream",
     "text": [
      "sepatu\n"
     ]
    }
   ],
   "source": [
    "nama_barang = \"sepatu\"\n",
    "print(nama_barang)"
   ]
  },
  {
   "attachments": {},
   "cell_type": "markdown",
   "metadata": {},
   "source": [
    "## Data Types - String"
   ]
  },
  {
   "cell_type": "code",
   "execution_count": 3,
   "metadata": {},
   "outputs": [],
   "source": [
    "nama_barang = 'Laptop'\n",
    "tipe_barang = 'ASIK'\n",
    "alamat_pengiriman = \"Jl. Maju Mundur\""
   ]
  },
  {
   "attachments": {},
   "cell_type": "markdown",
   "metadata": {},
   "source": [
    "## Data Types - Integer"
   ]
  },
  {
   "cell_type": "code",
   "execution_count": 4,
   "metadata": {},
   "outputs": [],
   "source": [
    "stock_barang = 20\n",
    "barang_terjual = 950\n",
    "jumlah_anak = 3"
   ]
  },
  {
   "cell_type": "code",
   "execution_count": 5,
   "metadata": {},
   "outputs": [
    {
     "name": "stdout",
     "output_type": "stream",
     "text": [
      "20\n"
     ]
    }
   ],
   "source": [
    "nilai = 10\n",
    "nilai_tambahan = 10\n",
    "\n",
    "hasil = nilai + nilai_tambahan\n",
    "print(hasil)"
   ]
  },
  {
   "attachments": {},
   "cell_type": "markdown",
   "metadata": {},
   "source": [
    "## Data Types - Float"
   ]
  },
  {
   "cell_type": "code",
   "execution_count": 6,
   "metadata": {},
   "outputs": [],
   "source": [
    "berat_badan = 35.7\n",
    "tinggi_badan = 170.5\n",
    "diskon = 0.5"
   ]
  },
  {
   "cell_type": "code",
   "execution_count": 7,
   "metadata": {},
   "outputs": [
    {
     "name": "stdout",
     "output_type": "stream",
     "text": [
      "5000.0\n"
     ]
    }
   ],
   "source": [
    "harga = 10000\n",
    "diskon = 0.5\n",
    "\n",
    "hasil = harga * diskon\n",
    "print(hasil)"
   ]
  },
  {
   "attachments": {},
   "cell_type": "markdown",
   "metadata": {},
   "source": [
    "## Data Types - Boolean"
   ]
  },
  {
   "cell_type": "code",
   "execution_count": 8,
   "metadata": {},
   "outputs": [],
   "source": [
    "user_active = True\n",
    "married_status = False\n",
    "ready_to_skip = True"
   ]
  },
  {
   "attachments": {},
   "cell_type": "markdown",
   "metadata": {},
   "source": [
    "## Data Types - List"
   ]
  },
  {
   "cell_type": "code",
   "execution_count": 10,
   "metadata": {},
   "outputs": [
    {
     "data": {
      "text/plain": [
       "'biru'"
      ]
     },
     "execution_count": 10,
     "metadata": {},
     "output_type": "execute_result"
    }
   ],
   "source": [
    "warna = [\"merah\", \"biru\", \"kuning\"]\n",
    "weight_history = [25.9, 28.1, 30.0, 32.4]\n",
    "random = [1, \"aku\", 34.8, '$', False]\n",
    "\n",
    "# get specific item\n",
    "warna[1]"
   ]
  },
  {
   "attachments": {},
   "cell_type": "markdown",
   "metadata": {},
   "source": [
    "## Data Types - Dictionary"
   ]
  },
  {
   "cell_type": "code",
   "execution_count": 13,
   "metadata": {},
   "outputs": [
    {
     "data": {
      "text/plain": [
       "31"
      ]
     },
     "execution_count": 13,
     "metadata": {},
     "output_type": "execute_result"
    }
   ],
   "source": [
    "identitas = {\"nama\": \"Ardhi\",\n",
    "             \"umur\": 31,\n",
    "             \"jenis_kelamin\": \"Pria\"}\n",
    "product_detail = {\"nama\": \"Asis ROG\",\n",
    "                  \"type\": \"ASIK\",\n",
    "                  \"diskon\": 0.2,\n",
    "                  \"harga\": 250000.0}\n",
    "mawar = {\"tersedia\": True,\n",
    "         \"warna\":[\"merah\",\"putih\"]}\n",
    "\n",
    "# get specific item (using key)\n",
    "identitas['umur']"
   ]
  },
  {
   "attachments": {},
   "cell_type": "markdown",
   "metadata": {},
   "source": [
    "## Data Types - Tuple"
   ]
  },
  {
   "cell_type": "code",
   "execution_count": 14,
   "metadata": {},
   "outputs": [
    {
     "data": {
      "text/plain": [
       "'dangdut'"
      ]
     },
     "execution_count": 14,
     "metadata": {},
     "output_type": "execute_result"
    }
   ],
   "source": [
    "jenis_lagu = (\"pop\",\"rock\",\"dangdut\")\n",
    "penyanyi = (\"Awin Fals\", 33, \"Album Kenangan\")\n",
    "random = (22.3, \"gunting\", True, 0)\n",
    "\n",
    "# get specific item\n",
    "jenis_lagu[2]"
   ]
  },
  {
   "attachments": {},
   "cell_type": "markdown",
   "metadata": {},
   "source": [
    "## Data Types - None"
   ]
  },
  {
   "cell_type": "code",
   "execution_count": 15,
   "metadata": {},
   "outputs": [],
   "source": [
    "resep_obat = None\n",
    "mata_kuliah = None\n",
    "status_karyawan = None"
   ]
  },
  {
   "attachments": {},
   "cell_type": "markdown",
   "metadata": {},
   "source": [
    "## Conditionals"
   ]
  },
  {
   "cell_type": "code",
   "execution_count": 16,
   "metadata": {},
   "outputs": [
    {
     "name": "stdout",
     "output_type": "stream",
     "text": [
      "ini adalah angka satu\n"
     ]
    }
   ],
   "source": [
    "nilai = 1\n",
    "if nilai == 1:\n",
    "    print(\"ini adalah angka satu\")"
   ]
  },
  {
   "cell_type": "code",
   "execution_count": 17,
   "metadata": {},
   "outputs": [
    {
     "name": "stdout",
     "output_type": "stream",
     "text": [
      "ini bukanlah 1\n"
     ]
    }
   ],
   "source": [
    "nilai = 2\n",
    "if nilai == 1:\n",
    "    # kode dibawah ini akan di eksekusi\n",
    "    # jika nilainya adalah 1\n",
    "    print(\"ini adalah angka satu\")\n",
    "else:\n",
    "    # kode dibawah ini akan di eksekusi\n",
    "    # jika nilainya bukan 1\n",
    "    print(\"ini bukanlah 1\")"
   ]
  },
  {
   "cell_type": "code",
   "execution_count": 18,
   "metadata": {},
   "outputs": [
    {
     "name": "stdout",
     "output_type": "stream",
     "text": [
      "ini adalah angka dua\n"
     ]
    }
   ],
   "source": [
    "nilai = 2\n",
    "if nilai == 1:\n",
    "    # kode dibawah ini akan di eksekusi\n",
    "    # jika nilainya adalah 1\n",
    "    print(\"ini adalah angka satu\")\n",
    "elif nilai == 2:\n",
    "    # kode dibawah ini akan di eksekusi\n",
    "    # jika nilainya adalah 2\n",
    "    print(\"ini adalah angka dua\")\n",
    "else:\n",
    "    # kode dibawah ini akan di eksekusi\n",
    "    # jika nilainya bukan 1\n",
    "    print(\"ini bukanlah angka 1 atau 2\")"
   ]
  },
  {
   "attachments": {},
   "cell_type": "markdown",
   "metadata": {},
   "source": [
    "## Indentation"
   ]
  },
  {
   "cell_type": "code",
   "execution_count": 19,
   "metadata": {},
   "outputs": [
    {
     "name": "stdout",
     "output_type": "stream",
     "text": [
      "Halo\n",
      "Nama sayaBudi\n"
     ]
    }
   ],
   "source": [
    "nama = \"Budi\"\n",
    "if nama == \"Budi\":\n",
    "    print(\"Halo\")\n",
    "    print(\"Nama saya\" + nama)"
   ]
  },
  {
   "attachments": {},
   "cell_type": "markdown",
   "metadata": {},
   "source": [
    "## Comment"
   ]
  },
  {
   "cell_type": "code",
   "execution_count": 20,
   "metadata": {},
   "outputs": [
    {
     "name": "stdout",
     "output_type": "stream",
     "text": [
      "20\n",
      "Nama saya Budi\n"
     ]
    }
   ],
   "source": [
    "# kode dibawah ini adalah untuk menghitung 10 * 2\n",
    "perkalian = 10 * 2\n",
    "print(perkalian)\n",
    "\n",
    "'''\n",
    "Komentar\n",
    "'''\n",
    "\n",
    "# print('Halo')\n",
    "print(\"Nama saya Budi\")"
   ]
  },
  {
   "attachments": {},
   "cell_type": "markdown",
   "metadata": {},
   "source": [
    "## Type Casting"
   ]
  },
  {
   "cell_type": "code",
   "execution_count": 21,
   "metadata": {},
   "outputs": [
    {
     "name": "stdout",
     "output_type": "stream",
     "text": [
      "1000.0\n",
      "<class 'float'>\n",
      "1000\n",
      "<class 'str'>\n"
     ]
    }
   ],
   "source": [
    "# integer\n",
    "harga = 1000\n",
    "\n",
    "# built in function : function bawaan dr Python\n",
    "# ubah menjadi float\n",
    "harga_float = float(harga)\n",
    "print(harga_float)\n",
    "print(type(harga_float))\n",
    "\n",
    "# ubah menjadi string\n",
    "harga_str = str(harga)\n",
    "print(harga_str)\n",
    "print(type(harga_str))\n"
   ]
  },
  {
   "attachments": {},
   "cell_type": "markdown",
   "metadata": {},
   "source": [
    "## Exception"
   ]
  },
  {
   "cell_type": "code",
   "execution_count": 22,
   "metadata": {},
   "outputs": [
    {
     "name": "stdout",
     "output_type": "stream",
     "text": [
      "unsupported operand type(s) for +: 'int' and 'str'\n"
     ]
    }
   ],
   "source": [
    "nilai = \"20.4\"\n",
    "try:\n",
    "    hitung = 10 + nilai\n",
    "    print(hitung)\n",
    "except Exception as e:\n",
    "    print(e)"
   ]
  },
  {
   "attachments": {},
   "cell_type": "markdown",
   "metadata": {},
   "source": [
    "## Built-in Function"
   ]
  },
  {
   "cell_type": "code",
   "execution_count": 23,
   "metadata": {},
   "outputs": [
    {
     "name": "stdout",
     "output_type": "stream",
     "text": [
      "Halo, saya Budi\n"
     ]
    }
   ],
   "source": [
    "# len : untuk menghitung jumlah panjangnya suatu value\n",
    "warna = [\"merah\", \"biru\", \"kuning\"]\n",
    "len(warna)\n",
    "\n",
    "# min : untuk mengambil nilai terkecil\n",
    "nilai_rapor = [22.0, 32.4, 37.3]\n",
    "min(nilai_rapor)\n",
    "\n",
    "# print : untuk menampilkan value\n",
    "print(\"Halo, saya Budi\")"
   ]
  },
  {
   "attachments": {},
   "cell_type": "markdown",
   "metadata": {},
   "source": [
    "## Function"
   ]
  },
  {
   "cell_type": "code",
   "execution_count": 27,
   "metadata": {},
   "outputs": [
    {
     "name": "stdout",
     "output_type": "stream",
     "text": [
      "Hallo nama saya Budi\n",
      "Hallo nama saya Sadi\n"
     ]
    }
   ],
   "source": [
    "def tampilkan_teks(input_text):\n",
    "    print(input_text)\n",
    "\n",
    "\n",
    "input_text = \"Hallo nama saya Budi\"\n",
    "tampilkan_teks(input_text)\n",
    "\n",
    "example = \"Hallo nama saya Sadi\"\n",
    "tampilkan_teks(example)"
   ]
  },
  {
   "attachments": {},
   "cell_type": "markdown",
   "metadata": {},
   "source": [
    "## Import Packages"
   ]
  },
  {
   "cell_type": "code",
   "execution_count": null,
   "metadata": {},
   "outputs": [],
   "source": [
    "import wget\n",
    "\n",
    "url = 'https://sample.videos.com/csv/Sample-Spreadsheet-10-rows.csv'\n",
    "download = wget.download(url)"
   ]
  },
  {
   "attachments": {},
   "cell_type": "markdown",
   "metadata": {},
   "source": [
    "## Loop"
   ]
  },
  {
   "attachments": {},
   "cell_type": "markdown",
   "metadata": {},
   "source": [
    "### While Loop"
   ]
  },
  {
   "cell_type": "code",
   "execution_count": 30,
   "metadata": {},
   "outputs": [
    {
     "name": "stdout",
     "output_type": "stream",
     "text": [
      "The count is:  1\n",
      "The count is:  2\n",
      "The count is:  3\n",
      "selesai\n"
     ]
    }
   ],
   "source": [
    "# While loop akan dilakukan selama kondisinya memenuhi (True)\n",
    "\n",
    "count = 1\n",
    "while (count < 4):\n",
    "    print(\"The count is: \", count)\n",
    "    count = count + 1\n",
    "\n",
    "print(\"selesai\")"
   ]
  },
  {
   "attachments": {},
   "cell_type": "markdown",
   "metadata": {},
   "source": [
    "### For Loop"
   ]
  },
  {
   "cell_type": "code",
   "execution_count": 31,
   "metadata": {},
   "outputs": [
    {
     "name": "stdout",
     "output_type": "stream",
     "text": [
      "1\n",
      "2\n",
      "3\n",
      "4\n",
      "5\n"
     ]
    }
   ],
   "source": [
    "# For loop digunakan untuk mengulang sebuah item/ urutan apapun\n",
    "\n",
    "angka = [1, 2, 3, 4, 5]\n",
    "\n",
    "for x in angka:\n",
    "    print(x)"
   ]
  },
  {
   "attachments": {},
   "cell_type": "markdown",
   "metadata": {},
   "source": [
    "## Example Data Engineering Task"
   ]
  },
  {
   "attachments": {},
   "cell_type": "markdown",
   "metadata": {},
   "source": [
    "- Implementasi ETL dalam code Python\n",
    "- Extract CSV file -> Transformasi (Data Cleaning) -> Load ke folder data-warehouse"
   ]
  },
  {
   "cell_type": "code",
   "execution_count": 33,
   "metadata": {},
   "outputs": [],
   "source": [
    "import pandas as pd"
   ]
  },
  {
   "cell_type": "code",
   "execution_count": 47,
   "metadata": {},
   "outputs": [],
   "source": [
    "df = pd.read_csv('https://raw.githubusercontent.com/nzlul03/data_engineer_nongki_repo/main/programming_python/sources/sales_data.csv')"
   ]
  },
  {
   "cell_type": "code",
   "execution_count": 46,
   "metadata": {},
   "outputs": [
    {
     "data": {
      "text/html": [
       "<div>\n",
       "<style scoped>\n",
       "    .dataframe tbody tr th:only-of-type {\n",
       "        vertical-align: middle;\n",
       "    }\n",
       "\n",
       "    .dataframe tbody tr th {\n",
       "        vertical-align: top;\n",
       "    }\n",
       "\n",
       "    .dataframe thead th {\n",
       "        text-align: right;\n",
       "    }\n",
       "</style>\n",
       "<table border=\"1\" class=\"dataframe\">\n",
       "  <thead>\n",
       "    <tr style=\"text-align: right;\">\n",
       "      <th></th>\n",
       "      <th>country</th>\n",
       "      <th>type</th>\n",
       "      <th>channel</th>\n",
       "      <th>priority</th>\n",
       "      <th>date</th>\n",
       "      <th>id</th>\n",
       "      <th>units_sold</th>\n",
       "      <th>unit_price</th>\n",
       "    </tr>\n",
       "  </thead>\n",
       "  <tbody>\n",
       "    <tr>\n",
       "      <th>0</th>\n",
       "      <td>Tuvalu</td>\n",
       "      <td>Baby Food</td>\n",
       "      <td>Offline</td>\n",
       "      <td>H</td>\n",
       "      <td>2010-05-28</td>\n",
       "      <td>669165933</td>\n",
       "      <td>9925.0</td>\n",
       "      <td>255.28</td>\n",
       "    </tr>\n",
       "    <tr>\n",
       "      <th>1</th>\n",
       "      <td>Grenada</td>\n",
       "      <td>Cereal</td>\n",
       "      <td>Online</td>\n",
       "      <td>C</td>\n",
       "      <td>2012-08-22</td>\n",
       "      <td>963881480</td>\n",
       "      <td>NaN</td>\n",
       "      <td>205.70</td>\n",
       "    </tr>\n",
       "    <tr>\n",
       "      <th>2</th>\n",
       "      <td>Russia</td>\n",
       "      <td>NaN</td>\n",
       "      <td>Offline</td>\n",
       "      <td>L</td>\n",
       "      <td>2014-05-02</td>\n",
       "      <td>341417157</td>\n",
       "      <td>1779.0</td>\n",
       "      <td>651.21</td>\n",
       "    </tr>\n",
       "    <tr>\n",
       "      <th>3</th>\n",
       "      <td>Sao Tome and Principe</td>\n",
       "      <td>Fruits</td>\n",
       "      <td>Online</td>\n",
       "      <td>C</td>\n",
       "      <td>2014-06-20</td>\n",
       "      <td>514321792</td>\n",
       "      <td>8102.0</td>\n",
       "      <td>9.33</td>\n",
       "    </tr>\n",
       "    <tr>\n",
       "      <th>4</th>\n",
       "      <td>Rwanda</td>\n",
       "      <td>Office Supplies</td>\n",
       "      <td>Offline</td>\n",
       "      <td>L</td>\n",
       "      <td>NaN</td>\n",
       "      <td>115456712</td>\n",
       "      <td>5062.0</td>\n",
       "      <td>651.21</td>\n",
       "    </tr>\n",
       "  </tbody>\n",
       "</table>\n",
       "</div>"
      ],
      "text/plain": [
       "                 country             type  channel priority        date  \\\n",
       "0                 Tuvalu        Baby Food  Offline        H  2010-05-28   \n",
       "1                Grenada           Cereal   Online        C  2012-08-22   \n",
       "2                 Russia              NaN  Offline        L  2014-05-02   \n",
       "3  Sao Tome and Principe           Fruits   Online        C  2014-06-20   \n",
       "4                 Rwanda  Office Supplies  Offline        L         NaN   \n",
       "\n",
       "          id  units_sold  unit_price  \n",
       "0  669165933      9925.0      255.28  \n",
       "1  963881480         NaN      205.70  \n",
       "2  341417157      1779.0      651.21  \n",
       "3  514321792      8102.0        9.33  \n",
       "4  115456712      5062.0      651.21  "
      ]
     },
     "execution_count": 46,
     "metadata": {},
     "output_type": "execute_result"
    }
   ],
   "source": [
    "df.head()"
   ]
  },
  {
   "cell_type": "code",
   "execution_count": 50,
   "metadata": {},
   "outputs": [
    {
     "data": {
      "text/html": [
       "<div>\n",
       "<style scoped>\n",
       "    .dataframe tbody tr th:only-of-type {\n",
       "        vertical-align: middle;\n",
       "    }\n",
       "\n",
       "    .dataframe tbody tr th {\n",
       "        vertical-align: top;\n",
       "    }\n",
       "\n",
       "    .dataframe thead th {\n",
       "        text-align: right;\n",
       "    }\n",
       "</style>\n",
       "<table border=\"1\" class=\"dataframe\">\n",
       "  <thead>\n",
       "    <tr style=\"text-align: right;\">\n",
       "      <th></th>\n",
       "      <th>country</th>\n",
       "      <th>type</th>\n",
       "      <th>channel</th>\n",
       "      <th>priority</th>\n",
       "      <th>date</th>\n",
       "      <th>id</th>\n",
       "      <th>units_sold</th>\n",
       "      <th>unit_price</th>\n",
       "    </tr>\n",
       "  </thead>\n",
       "  <tbody>\n",
       "    <tr>\n",
       "      <th>8</th>\n",
       "      <td>Republic of the Congo</td>\n",
       "      <td>Personal Care</td>\n",
       "      <td>Offline</td>\n",
       "      <td>M</td>\n",
       "      <td>2015-07-14</td>\n",
       "      <td>770463311</td>\n",
       "      <td>6070.0</td>\n",
       "      <td>81.73</td>\n",
       "    </tr>\n",
       "    <tr>\n",
       "      <th>14</th>\n",
       "      <td>Mongolia</td>\n",
       "      <td>Personal Care</td>\n",
       "      <td>Offline</td>\n",
       "      <td>C</td>\n",
       "      <td>2014-02-19</td>\n",
       "      <td>832401311</td>\n",
       "      <td>4901.0</td>\n",
       "      <td>81.73</td>\n",
       "    </tr>\n",
       "    <tr>\n",
       "      <th>24</th>\n",
       "      <td>Moldova</td>\n",
       "      <td>Personal Care</td>\n",
       "      <td>Online</td>\n",
       "      <td>L</td>\n",
       "      <td>2016-05-07</td>\n",
       "      <td>740147912</td>\n",
       "      <td>5070.0</td>\n",
       "      <td>81.73</td>\n",
       "    </tr>\n",
       "    <tr>\n",
       "      <th>31</th>\n",
       "      <td>South Sudan</td>\n",
       "      <td>Personal Care</td>\n",
       "      <td>Offline</td>\n",
       "      <td>C</td>\n",
       "      <td>2013-12-29</td>\n",
       "      <td>406502997</td>\n",
       "      <td>2125.0</td>\n",
       "      <td>81.73</td>\n",
       "    </tr>\n",
       "    <tr>\n",
       "      <th>35</th>\n",
       "      <td>Costa Rica</td>\n",
       "      <td>Personal Care</td>\n",
       "      <td>Offline</td>\n",
       "      <td>L</td>\n",
       "      <td>2017-05-08</td>\n",
       "      <td>456767165</td>\n",
       "      <td>6409.0</td>\n",
       "      <td>81.73</td>\n",
       "    </tr>\n",
       "    <tr>\n",
       "      <th>40</th>\n",
       "      <td>Niger</td>\n",
       "      <td>Personal Care</td>\n",
       "      <td>Online</td>\n",
       "      <td>H</td>\n",
       "      <td>2017-03-11</td>\n",
       "      <td>699285638</td>\n",
       "      <td>3015.0</td>\n",
       "      <td>81.73</td>\n",
       "    </tr>\n",
       "    <tr>\n",
       "      <th>47</th>\n",
       "      <td>Switzerland</td>\n",
       "      <td>Personal Care</td>\n",
       "      <td>Online</td>\n",
       "      <td>M</td>\n",
       "      <td>2010-12-23</td>\n",
       "      <td>617667090</td>\n",
       "      <td>273.0</td>\n",
       "      <td>81.73</td>\n",
       "    </tr>\n",
       "    <tr>\n",
       "      <th>66</th>\n",
       "      <td>Gabon</td>\n",
       "      <td>Personal Care</td>\n",
       "      <td>Offline</td>\n",
       "      <td>L</td>\n",
       "      <td>2012-07-08</td>\n",
       "      <td>228944623</td>\n",
       "      <td>8656.0</td>\n",
       "      <td>81.73</td>\n",
       "    </tr>\n",
       "    <tr>\n",
       "      <th>85</th>\n",
       "      <td>Mexico</td>\n",
       "      <td>Personal Care</td>\n",
       "      <td>Offline</td>\n",
       "      <td>L</td>\n",
       "      <td>2012-02-17</td>\n",
       "      <td>430915820</td>\n",
       "      <td>6422.0</td>\n",
       "      <td>81.73</td>\n",
       "    </tr>\n",
       "    <tr>\n",
       "      <th>98</th>\n",
       "      <td>Mexico</td>\n",
       "      <td>Personal Care</td>\n",
       "      <td>Offline</td>\n",
       "      <td>M</td>\n",
       "      <td>2015-07-30</td>\n",
       "      <td>559427106</td>\n",
       "      <td>5767.0</td>\n",
       "      <td>81.73</td>\n",
       "    </tr>\n",
       "    <tr>\n",
       "      <th>101</th>\n",
       "      <td>Mexico</td>\n",
       "      <td>Personal Care</td>\n",
       "      <td>Offline</td>\n",
       "      <td>M</td>\n",
       "      <td>2015-07-30</td>\n",
       "      <td>559427106</td>\n",
       "      <td>5767.0</td>\n",
       "      <td>81.73</td>\n",
       "    </tr>\n",
       "  </tbody>\n",
       "</table>\n",
       "</div>"
      ],
      "text/plain": [
       "                   country           type  channel priority        date  \\\n",
       "8    Republic of the Congo  Personal Care  Offline        M  2015-07-14   \n",
       "14                Mongolia  Personal Care  Offline        C  2014-02-19   \n",
       "24                Moldova   Personal Care   Online        L  2016-05-07   \n",
       "31             South Sudan  Personal Care  Offline        C  2013-12-29   \n",
       "35              Costa Rica  Personal Care  Offline        L  2017-05-08   \n",
       "40                   Niger  Personal Care   Online        H  2017-03-11   \n",
       "47             Switzerland  Personal Care   Online        M  2010-12-23   \n",
       "66                   Gabon  Personal Care  Offline        L  2012-07-08   \n",
       "85                  Mexico  Personal Care  Offline        L  2012-02-17   \n",
       "98                  Mexico  Personal Care  Offline        M  2015-07-30   \n",
       "101                 Mexico  Personal Care  Offline        M  2015-07-30   \n",
       "\n",
       "            id  units_sold  unit_price  \n",
       "8    770463311      6070.0       81.73  \n",
       "14   832401311      4901.0       81.73  \n",
       "24   740147912      5070.0       81.73  \n",
       "31   406502997      2125.0       81.73  \n",
       "35   456767165      6409.0       81.73  \n",
       "40   699285638      3015.0       81.73  \n",
       "47   617667090       273.0       81.73  \n",
       "66   228944623      8656.0       81.73  \n",
       "85   430915820      6422.0       81.73  \n",
       "98   559427106      5767.0       81.73  \n",
       "101  559427106      5767.0       81.73  "
      ]
     },
     "execution_count": 50,
     "metadata": {},
     "output_type": "execute_result"
    }
   ],
   "source": [
    "df[df[\"type\"]=='Personal Care']"
   ]
  },
  {
   "cell_type": "code",
   "execution_count": 49,
   "metadata": {},
   "outputs": [
    {
     "data": {
      "text/html": [
       "<div>\n",
       "<style scoped>\n",
       "    .dataframe tbody tr th:only-of-type {\n",
       "        vertical-align: middle;\n",
       "    }\n",
       "\n",
       "    .dataframe tbody tr th {\n",
       "        vertical-align: top;\n",
       "    }\n",
       "\n",
       "    .dataframe thead th {\n",
       "        text-align: right;\n",
       "    }\n",
       "</style>\n",
       "<table border=\"1\" class=\"dataframe\">\n",
       "  <thead>\n",
       "    <tr style=\"text-align: right;\">\n",
       "      <th></th>\n",
       "      <th>country</th>\n",
       "      <th>type</th>\n",
       "      <th>channel</th>\n",
       "      <th>priority</th>\n",
       "      <th>date</th>\n",
       "      <th>id</th>\n",
       "      <th>units_sold</th>\n",
       "      <th>unit_price</th>\n",
       "    </tr>\n",
       "  </thead>\n",
       "  <tbody>\n",
       "    <tr>\n",
       "      <th>1</th>\n",
       "      <td>Grenada</td>\n",
       "      <td>Cereal</td>\n",
       "      <td>Online</td>\n",
       "      <td>C</td>\n",
       "      <td>2012-08-22</td>\n",
       "      <td>963881480</td>\n",
       "      <td>NaN</td>\n",
       "      <td>205.70</td>\n",
       "    </tr>\n",
       "    <tr>\n",
       "      <th>2</th>\n",
       "      <td>Russia</td>\n",
       "      <td>NaN</td>\n",
       "      <td>Offline</td>\n",
       "      <td>L</td>\n",
       "      <td>2014-05-02</td>\n",
       "      <td>341417157</td>\n",
       "      <td>1779.0</td>\n",
       "      <td>651.21</td>\n",
       "    </tr>\n",
       "    <tr>\n",
       "      <th>4</th>\n",
       "      <td>Rwanda</td>\n",
       "      <td>Office Supplies</td>\n",
       "      <td>Offline</td>\n",
       "      <td>L</td>\n",
       "      <td>NaN</td>\n",
       "      <td>115456712</td>\n",
       "      <td>5062.0</td>\n",
       "      <td>651.21</td>\n",
       "    </tr>\n",
       "    <tr>\n",
       "      <th>5</th>\n",
       "      <td>NaN</td>\n",
       "      <td>Baby Food</td>\n",
       "      <td>Online</td>\n",
       "      <td>C</td>\n",
       "      <td>2015-02-04</td>\n",
       "      <td>547995746</td>\n",
       "      <td>2974.0</td>\n",
       "      <td>255.28</td>\n",
       "    </tr>\n",
       "  </tbody>\n",
       "</table>\n",
       "</div>"
      ],
      "text/plain": [
       "   country             type  channel priority        date         id  \\\n",
       "1  Grenada           Cereal   Online        C  2012-08-22  963881480   \n",
       "2   Russia              NaN  Offline        L  2014-05-02  341417157   \n",
       "4   Rwanda  Office Supplies  Offline        L         NaN  115456712   \n",
       "5      NaN        Baby Food   Online        C  2015-02-04  547995746   \n",
       "\n",
       "   units_sold  unit_price  \n",
       "1         NaN      205.70  \n",
       "2      1779.0      651.21  \n",
       "4      5062.0      651.21  \n",
       "5      2974.0      255.28  "
      ]
     },
     "execution_count": 49,
     "metadata": {},
     "output_type": "execute_result"
    }
   ],
   "source": [
    "# show missing value\n",
    "df[df.isna().any(axis=1)]"
   ]
  },
  {
   "cell_type": "code",
   "execution_count": 51,
   "metadata": {},
   "outputs": [
    {
     "data": {
      "text/html": [
       "<div>\n",
       "<style scoped>\n",
       "    .dataframe tbody tr th:only-of-type {\n",
       "        vertical-align: middle;\n",
       "    }\n",
       "\n",
       "    .dataframe tbody tr th {\n",
       "        vertical-align: top;\n",
       "    }\n",
       "\n",
       "    .dataframe thead th {\n",
       "        text-align: right;\n",
       "    }\n",
       "</style>\n",
       "<table border=\"1\" class=\"dataframe\">\n",
       "  <thead>\n",
       "    <tr style=\"text-align: right;\">\n",
       "      <th></th>\n",
       "      <th>country</th>\n",
       "      <th>type</th>\n",
       "      <th>channel</th>\n",
       "      <th>priority</th>\n",
       "      <th>date</th>\n",
       "      <th>id</th>\n",
       "      <th>units_sold</th>\n",
       "      <th>unit_price</th>\n",
       "    </tr>\n",
       "  </thead>\n",
       "  <tbody>\n",
       "  </tbody>\n",
       "</table>\n",
       "</div>"
      ],
      "text/plain": [
       "Empty DataFrame\n",
       "Columns: [country, type, channel, priority, date, id, units_sold, unit_price]\n",
       "Index: []"
      ]
     },
     "execution_count": 51,
     "metadata": {},
     "output_type": "execute_result"
    }
   ],
   "source": [
    "# drop missing value\n",
    "df = df.dropna()\n",
    "\n",
    "# show missing value after drop\n",
    "df[df.isna().any(axis=1)]"
   ]
  },
  {
   "cell_type": "code",
   "execution_count": 52,
   "metadata": {},
   "outputs": [
    {
     "data": {
      "text/plain": [
       "array(['Baby Food', 'Fruits', 'Household', 'Vegetables', 'Personal Care',\n",
       "       'Cereal', 'Clothes', 'Cosmetics', 'Beverages', 'Meat', 'Snacks',\n",
       "       'Frutis', 'Office Supplies'], dtype=object)"
      ]
     },
     "execution_count": 52,
     "metadata": {},
     "output_type": "execute_result"
    }
   ],
   "source": [
    "# check unique column type\n",
    "df['type'].unique()"
   ]
  },
  {
   "cell_type": "code",
   "execution_count": 54,
   "metadata": {},
   "outputs": [
    {
     "data": {
      "text/plain": [
       "array(['Baby Food', 'Fruits', 'Household', 'Vegetables', 'Personal Care',\n",
       "       'Cereal', 'Clothes', 'Cosmetics', 'Beverages', 'Meat', 'Snacks',\n",
       "       'Office Supplies'], dtype=object)"
      ]
     },
     "execution_count": 54,
     "metadata": {},
     "output_type": "execute_result"
    }
   ],
   "source": [
    "# replace Frutis to Fruits (type)\n",
    "df.loc[df['type']==\"Frutis\", \"type\"] = \"Fruits\"\n",
    "\n",
    "# check unique column type\n",
    "df['type'].unique()"
   ]
  },
  {
   "cell_type": "code",
   "execution_count": 55,
   "metadata": {},
   "outputs": [
    {
     "data": {
      "text/html": [
       "<div>\n",
       "<style scoped>\n",
       "    .dataframe tbody tr th:only-of-type {\n",
       "        vertical-align: middle;\n",
       "    }\n",
       "\n",
       "    .dataframe tbody tr th {\n",
       "        vertical-align: top;\n",
       "    }\n",
       "\n",
       "    .dataframe thead th {\n",
       "        text-align: right;\n",
       "    }\n",
       "</style>\n",
       "<table border=\"1\" class=\"dataframe\">\n",
       "  <thead>\n",
       "    <tr style=\"text-align: right;\">\n",
       "      <th></th>\n",
       "      <th>country</th>\n",
       "      <th>type</th>\n",
       "      <th>channel</th>\n",
       "      <th>priority</th>\n",
       "      <th>date</th>\n",
       "      <th>id</th>\n",
       "      <th>units_sold</th>\n",
       "      <th>unit_price</th>\n",
       "    </tr>\n",
       "  </thead>\n",
       "  <tbody>\n",
       "    <tr>\n",
       "      <th>101</th>\n",
       "      <td>Mexico</td>\n",
       "      <td>Personal Care</td>\n",
       "      <td>Offline</td>\n",
       "      <td>M</td>\n",
       "      <td>2015-07-30</td>\n",
       "      <td>559427106</td>\n",
       "      <td>5767.0</td>\n",
       "      <td>81.73</td>\n",
       "    </tr>\n",
       "  </tbody>\n",
       "</table>\n",
       "</div>"
      ],
      "text/plain": [
       "    country           type  channel priority        date         id  \\\n",
       "101  Mexico  Personal Care  Offline        M  2015-07-30  559427106   \n",
       "\n",
       "     units_sold  unit_price  \n",
       "101      5767.0       81.73  "
      ]
     },
     "execution_count": 55,
     "metadata": {},
     "output_type": "execute_result"
    }
   ],
   "source": [
    "# duplicate data\n",
    "df[df.duplicated()]"
   ]
  },
  {
   "cell_type": "code",
   "execution_count": 58,
   "metadata": {},
   "outputs": [
    {
     "data": {
      "text/html": [
       "<div>\n",
       "<style scoped>\n",
       "    .dataframe tbody tr th:only-of-type {\n",
       "        vertical-align: middle;\n",
       "    }\n",
       "\n",
       "    .dataframe tbody tr th {\n",
       "        vertical-align: top;\n",
       "    }\n",
       "\n",
       "    .dataframe thead th {\n",
       "        text-align: right;\n",
       "    }\n",
       "</style>\n",
       "<table border=\"1\" class=\"dataframe\">\n",
       "  <thead>\n",
       "    <tr style=\"text-align: right;\">\n",
       "      <th></th>\n",
       "      <th>country</th>\n",
       "      <th>type</th>\n",
       "      <th>channel</th>\n",
       "      <th>priority</th>\n",
       "      <th>date</th>\n",
       "      <th>id</th>\n",
       "      <th>units_sold</th>\n",
       "      <th>unit_price</th>\n",
       "    </tr>\n",
       "  </thead>\n",
       "  <tbody>\n",
       "    <tr>\n",
       "      <th>98</th>\n",
       "      <td>Mexico</td>\n",
       "      <td>Personal Care</td>\n",
       "      <td>Offline</td>\n",
       "      <td>M</td>\n",
       "      <td>2015-07-30</td>\n",
       "      <td>559427106</td>\n",
       "      <td>5767.0</td>\n",
       "      <td>81.73</td>\n",
       "    </tr>\n",
       "    <tr>\n",
       "      <th>101</th>\n",
       "      <td>Mexico</td>\n",
       "      <td>Personal Care</td>\n",
       "      <td>Offline</td>\n",
       "      <td>M</td>\n",
       "      <td>2015-07-30</td>\n",
       "      <td>559427106</td>\n",
       "      <td>5767.0</td>\n",
       "      <td>81.73</td>\n",
       "    </tr>\n",
       "  </tbody>\n",
       "</table>\n",
       "</div>"
      ],
      "text/plain": [
       "    country           type  channel priority        date         id  \\\n",
       "98   Mexico  Personal Care  Offline        M  2015-07-30  559427106   \n",
       "101  Mexico  Personal Care  Offline        M  2015-07-30  559427106   \n",
       "\n",
       "     units_sold  unit_price  \n",
       "98       5767.0       81.73  \n",
       "101      5767.0       81.73  "
      ]
     },
     "execution_count": 58,
     "metadata": {},
     "output_type": "execute_result"
    }
   ],
   "source": [
    "# check record yang duplicate\n",
    "\n",
    "df[df[\"id\"]==559427106]"
   ]
  },
  {
   "cell_type": "code",
   "execution_count": 61,
   "metadata": {},
   "outputs": [
    {
     "data": {
      "text/html": [
       "<div>\n",
       "<style scoped>\n",
       "    .dataframe tbody tr th:only-of-type {\n",
       "        vertical-align: middle;\n",
       "    }\n",
       "\n",
       "    .dataframe tbody tr th {\n",
       "        vertical-align: top;\n",
       "    }\n",
       "\n",
       "    .dataframe thead th {\n",
       "        text-align: right;\n",
       "    }\n",
       "</style>\n",
       "<table border=\"1\" class=\"dataframe\">\n",
       "  <thead>\n",
       "    <tr style=\"text-align: right;\">\n",
       "      <th></th>\n",
       "      <th>country</th>\n",
       "      <th>type</th>\n",
       "      <th>channel</th>\n",
       "      <th>priority</th>\n",
       "      <th>date</th>\n",
       "      <th>id</th>\n",
       "      <th>units_sold</th>\n",
       "      <th>unit_price</th>\n",
       "    </tr>\n",
       "  </thead>\n",
       "  <tbody>\n",
       "  </tbody>\n",
       "</table>\n",
       "</div>"
      ],
      "text/plain": [
       "Empty DataFrame\n",
       "Columns: [country, type, channel, priority, date, id, units_sold, unit_price]\n",
       "Index: []"
      ]
     },
     "execution_count": 61,
     "metadata": {},
     "output_type": "execute_result"
    }
   ],
   "source": [
    "# drop duplicate\n",
    "df = df.drop_duplicates()\n",
    "\n",
    "# duplicate data again\n",
    "df[df.duplicated()]"
   ]
  },
  {
   "cell_type": "code",
   "execution_count": 62,
   "metadata": {},
   "outputs": [],
   "source": [
    "df.to_csv('data-warehouse/sales_data_cleaned.csv', index=False)"
   ]
  }
 ],
 "metadata": {
  "kernelspec": {
   "display_name": "Python 3",
   "language": "python",
   "name": "python3"
  },
  "language_info": {
   "codemirror_mode": {
    "name": "ipython",
    "version": 3
   },
   "file_extension": ".py",
   "mimetype": "text/x-python",
   "name": "python",
   "nbconvert_exporter": "python",
   "pygments_lexer": "ipython3",
   "version": "3.10.10"
  },
  "orig_nbformat": 4,
  "vscode": {
   "interpreter": {
    "hash": "66f804da07f0f556d77bc3269dc5bb19edf020422864031af2885e5ff55f9079"
   }
  }
 },
 "nbformat": 4,
 "nbformat_minor": 2
}
